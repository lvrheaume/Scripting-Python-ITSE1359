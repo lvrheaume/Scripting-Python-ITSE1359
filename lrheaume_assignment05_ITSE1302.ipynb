{
  "nbformat": 4,
  "nbformat_minor": 0,
  "metadata": {
    "colab": {
      "provenance": [],
      "authorship_tag": "ABX9TyM3JWUuZF5E89/NfjROZ9M5",
      "include_colab_link": true
    },
    "kernelspec": {
      "name": "python3",
      "display_name": "Python 3"
    },
    "language_info": {
      "name": "python"
    }
  },
  "cells": [
    {
      "cell_type": "markdown",
      "metadata": {
        "id": "view-in-github",
        "colab_type": "text"
      },
      "source": [
        "<a href=\"https://colab.research.google.com/github/lvrheaume/Scripting-Python-ITSE1359/blob/main/lrheaume_assignment05_ITSE1302.ipynb\" target=\"_parent\"><img src=\"https://colab.research.google.com/assets/colab-badge.svg\" alt=\"Open In Colab\"/></a>"
      ]
    },
    {
      "cell_type": "markdown",
      "source": [
        "# Assignment 05 - LeAnne Rheaume\n",
        "## Requirements - whirlwind tour of python, chapter 00-10\n",
        "### From assignment 1302 content reqs part 1: Demonstrate the following arithmetic operations in a cell - addition, subtraction, multiplication, true division, floor division, exponentiation"
      ],
      "metadata": {
        "id": "RHXPekM2_-oq"
      }
    },
    {
      "cell_type": "code",
      "execution_count": null,
      "metadata": {
        "colab": {
          "base_uri": "https://localhost:8080/"
        },
        "id": "iuDuQP-f_wQ2",
        "outputId": "14d516a8-f45d-4cb8-f4ba-25bbb8329441"
      },
      "outputs": [
        {
          "output_type": "stream",
          "name": "stdout",
          "text": [
            "Addition:\n",
            "Subtraction:\n",
            "Multiplication:\n",
            "Division:\n",
            "Power raising to another number\n",
            "Floor Division:\n",
            "Modulo: <function modulo at 0x7fafd3424860>\n",
            "16\n",
            "1\n",
            "4\n",
            "1000000\n",
            "2\n",
            "1\n",
            "1000000\n",
            "1.6666666666666667\n",
            "90\n",
            "4\n",
            "16\n",
            "10\n"
          ]
        }
      ],
      "source": [
        "#operators lib reference for assignment 05\n",
        "import math\n",
        "import operator\n",
        "from IPython.display import display\n",
        "\n",
        "#Assign values to the variables\n",
        "a = 10\n",
        "b = 6\n",
        "c = 6\n",
        "d = 8\n",
        "e = 9\n",
        "# Addition\n",
        "def add(a, b):\n",
        "    return a + b\n",
        "print(\"Addition:\",)\n",
        "# Subtraction\n",
        "def subtract(a, b):\n",
        "    return a - b\n",
        "print(\"Subtraction:\", )\n",
        "\n",
        "# Multiplication\n",
        "def multiply(a, b):\n",
        "    return a * b\n",
        "print(\"Multiplication:\",)\n",
        "\n",
        "# Division\n",
        "def divide(a, b):\n",
        "    if b == 0:\n",
        "        raise ValueError(\"cannot divide by zero!\")\n",
        "    return a / b\n",
        "print(\"Division:\",)\n",
        "\n",
        "#Exponentiation\n",
        "def power(a, b):\n",
        "    return a**b\n",
        "print(\"Power raising to another number\",)\n",
        "\n",
        "# Floor Division\n",
        "def floor_divide(a, b):\n",
        "    if b == 0:\n",
        "        raise ValueError(\"Cannot perform floor division by zero\")\n",
        "    return a // b\n",
        "print(\"Floor Division:\", )\n",
        "\n",
        "# Modulo\n",
        "def modulo (a,b):\n",
        "    if b == 0:\n",
        "        raise ValueError(\"Cannot perform modulo by zero.\")\n",
        "    return a % b\n",
        "print(\"Modulo:\", )\n",
        "\n",
        "#fuctions and printing results from operators\n",
        "addition = add(a,b)\n",
        "subtraction = subtract(a,b)\n",
        "multiplication = multiply(a,e)\n",
        "division = divide(a,b)\n",
        "exponentiation = power(a,b)\n",
        "floor_division = floor_divide(b, b)\n",
        "modulo = modulo(a,d)\n",
        "print(a + b)\n",
        "print(a // b)\n",
        "print(a % b)\n",
        "print(a ** b)\n",
        "print(modulo)\n",
        "print(floor_division)\n",
        "print(exponentiation)\n",
        "print(division)\n",
        "print(multiplication)\n",
        "print(subtraction)\n",
        "print(addition)\n",
        "\n",
        "# call add function with arguments and assign it to variable add (overwrites\n",
        "# previous add function)\n",
        "add = add(10, 5)\n",
        "# This line was changed, previously the variable a was not defined, it was only compared to a value with the == operator\n",
        "print(a) # print the variable a which has a value of 10"
      ]
    }
  ]
}