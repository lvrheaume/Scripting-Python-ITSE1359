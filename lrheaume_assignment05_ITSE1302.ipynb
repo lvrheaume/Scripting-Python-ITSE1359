{
  "nbformat": 4,
  "nbformat_minor": 0,
  "metadata": {
    "colab": {
      "provenance": [],
      "authorship_tag": "ABX9TyOQ2vpDnRGuQXJLBu5Kg0m2",
      "include_colab_link": true
    },
    "kernelspec": {
      "name": "python3",
      "display_name": "Python 3"
    },
    "language_info": {
      "name": "python"
    }
  },
  "cells": [
    {
      "cell_type": "markdown",
      "metadata": {
        "id": "view-in-github",
        "colab_type": "text"
      },
      "source": [
        "<a href=\"https://colab.research.google.com/github/lvrheaume/Scripting-Python-ITSE1359/blob/main/lrheaume_assignment05_ITSE1302.ipynb\" target=\"_parent\"><img src=\"https://colab.research.google.com/assets/colab-badge.svg\" alt=\"Open In Colab\"/></a>"
      ]
    },
    {
      "cell_type": "markdown",
      "source": [
        "# Assignment 05 - LeAnne Rheaume\n",
        "## Requirements - whirlwind tour of python, chapter 00-10\n",
        "### From assignment 1302 content reqs part 1: Demonstrate the following arithmetic operations in a cell - addition, subtraction, multiplication, true division, floor division, exponentiation"
      ],
      "metadata": {
        "id": "RHXPekM2_-oq"
      }
    },
    {
      "cell_type": "code",
      "execution_count": 171,
      "metadata": {
        "colab": {
          "base_uri": "https://localhost:8080/",
          "height": 0
        },
        "collapsed": true,
        "id": "iuDuQP-f_wQ2",
        "outputId": "2aabbaa8-105b-4b88-cbfd-89b2385674ca"
      },
      "outputs": [
        {
          "output_type": "stream",
          "name": "stdout",
          "text": [
            "Addition:\n",
            "Subtraction:\n",
            "Multiplication:\n",
            "Division:\n",
            "Power raising to another number\n",
            "Floor Division:\n",
            "Modulo:\n",
            "16\n",
            "1\n",
            "4\n",
            "1000000\n",
            "2\n",
            "1\n",
            "1000000\n",
            "1.6666666666666667\n",
            "90\n",
            "4\n",
            "16\n"
          ]
        }
      ],
      "source": [
        "#operators lib reference for assignment 05\n",
        "import math\n",
        "import operator\n",
        "from IPython.display import display\n",
        "\n",
        "#Assign values to the global variables\n",
        "a = 10\n",
        "b = 6\n",
        "c = 6\n",
        "d = 8\n",
        "e = 9\n",
        "\n",
        "# Addition\n",
        "def add(a, b):\n",
        "    return a + b\n",
        "print(\"Addition:\",)\n",
        "# Subtraction\n",
        "def subtract(a, b):\n",
        "    return a - b\n",
        "print(\"Subtraction:\", )\n",
        "\n",
        "# Multiplication\n",
        "def multiply(a, b):\n",
        "    return a * b\n",
        "print(\"Multiplication:\",)\n",
        "\n",
        "# Division\n",
        "def divide(a, b):\n",
        "    if b == 0:\n",
        "        raise ValueError(\"cannot divide by zero!\")\n",
        "    return a / b\n",
        "print(\"Division:\",)\n",
        "\n",
        "#Exponentiation\n",
        "def power(a, b):\n",
        "    return a**b\n",
        "print(\"Power raising to another number\",)\n",
        "\n",
        "# Floor Division\n",
        "def floor_divide(a, b):\n",
        "    if b == 0:\n",
        "        raise ValueError(\"Cannot perform floor division by zero\")\n",
        "    return a // b\n",
        "print(\"Floor Division:\", )\n",
        "\n",
        "# Modulo\n",
        "def modulo (a,b):\n",
        "    if b == 0:\n",
        "        raise ValueError(\"Cannot perform modulo by zero.\")\n",
        "    return a % b\n",
        "print(\"Modulo:\", )\n",
        "\n",
        "#fuctions and printing results from operators\n",
        "addition = add(a,b)\n",
        "subtraction = subtract(a,b)\n",
        "multiplication = multiply(a,e)\n",
        "division = divide(a,b)\n",
        "exponentiation = power(a,b)\n",
        "floor_division = floor_divide(b, b)\n",
        "modulo = modulo(a,d)\n",
        "print(a + b)\n",
        "print(a // b)\n",
        "print(a % b)\n",
        "print(a ** b)\n",
        "print(modulo)\n",
        "print(floor_division)\n",
        "print(exponentiation)\n",
        "print(division)\n",
        "print(multiplication)\n",
        "print(subtraction)\n",
        "print(addition)\n"
      ]
    },
    {
      "cell_type": "code",
      "source": [
        "# Call main if it's defined\n",
        "if __name__ == \"__main__\":\n",
        "  def main():\n",
        "# Get user input with a clear prompt\n",
        "    pass\n",
        "\n",
        "# Print the calculated values\n",
        "print(addition, a + b)\n",
        "def question():\n",
        "  question()\n",
        "  print(input(\"please input your answer to the following:\"))\n",
        "  #I have gotten myself turned around, moving on to second part since I think I've got part 1 done in the block above"
      ],
      "metadata": {
        "colab": {
          "base_uri": "https://localhost:8080/",
          "height": 0
        },
        "collapsed": true,
        "id": "tEUu8W0kFD_O",
        "outputId": "52d7af09-50fa-46f0-ba3a-316e0dc42688"
      },
      "execution_count": 172,
      "outputs": [
        {
          "output_type": "stream",
          "name": "stdout",
          "text": [
            "16 16\n"
          ]
        }
      ]
    },
    {
      "cell_type": "code",
      "source": [
        "# is a and b equal to one another? T/f\n",
        "a == b"
      ],
      "metadata": {
        "colab": {
          "base_uri": "https://localhost:8080/",
          "height": 0
        },
        "id": "iRAuqZRRKue8",
        "outputId": "3427e0c2-84e1-4363-d191-bb0c49d043a5"
      },
      "execution_count": 173,
      "outputs": [
        {
          "output_type": "execute_result",
          "data": {
            "text/plain": [
              "False"
            ]
          },
          "metadata": {},
          "execution_count": 173
        }
      ]
    },
    {
      "cell_type": "code",
      "source": [
        "# is a and b equal to one another? T/f\n",
        "a != b"
      ],
      "metadata": {
        "colab": {
          "base_uri": "https://localhost:8080/",
          "height": 0
        },
        "outputId": "7dc4a6e8-73c0-42e9-9cab-7e33696c6dad",
        "id": "Fk9d01K_MHVZ"
      },
      "execution_count": 174,
      "outputs": [
        {
          "output_type": "execute_result",
          "data": {
            "text/plain": [
              "True"
            ]
          },
          "metadata": {},
          "execution_count": 174
        }
      ]
    },
    {
      "cell_type": "code",
      "source": [
        "# is a and b greater than or equal to one another? T/f\n",
        "a <= b"
      ],
      "metadata": {
        "colab": {
          "base_uri": "https://localhost:8080/",
          "height": 0
        },
        "id": "dN0KrXXbLEld",
        "outputId": "c8b5f238-a6a6-436c-cc24-f112f9d1d507"
      },
      "execution_count": 175,
      "outputs": [
        {
          "output_type": "execute_result",
          "data": {
            "text/plain": [
              "False"
            ]
          },
          "metadata": {},
          "execution_count": 175
        }
      ]
    },
    {
      "cell_type": "code",
      "source": [
        "# is a and b greater than or equal to one another? T/f\n",
        "a >= b"
      ],
      "metadata": {
        "colab": {
          "base_uri": "https://localhost:8080/",
          "height": 0
        },
        "outputId": "0ac48495-42e7-4c2f-909e-dd830f32c1f5",
        "id": "MQoJDQ25L7-h"
      },
      "execution_count": 176,
      "outputs": [
        {
          "output_type": "execute_result",
          "data": {
            "text/plain": [
              "True"
            ]
          },
          "metadata": {},
          "execution_count": 176
        }
      ]
    },
    {
      "cell_type": "code",
      "source": [
        "# is a less than b? T/f\n",
        "a < b"
      ],
      "metadata": {
        "colab": {
          "base_uri": "https://localhost:8080/",
          "height": 0
        },
        "id": "bDSsPc8bLL9y",
        "outputId": "9c1a51ce-3ac1-4e78-9624-761f14fb269d"
      },
      "execution_count": 177,
      "outputs": [
        {
          "output_type": "execute_result",
          "data": {
            "text/plain": [
              "False"
            ]
          },
          "metadata": {},
          "execution_count": 177
        }
      ]
    },
    {
      "cell_type": "code",
      "source": [
        "# is a greater than b? T/f\n",
        "a > b"
      ],
      "metadata": {
        "colab": {
          "base_uri": "https://localhost:8080/",
          "height": 0
        },
        "outputId": "5ad21b8d-89c0-458e-9592-bb580c671dfc",
        "id": "qyTfYmf9MS3u"
      },
      "execution_count": 178,
      "outputs": [
        {
          "output_type": "execute_result",
          "data": {
            "text/plain": [
              "True"
            ]
          },
          "metadata": {},
          "execution_count": 178
        }
      ]
    },
    {
      "cell_type": "code",
      "source": [
        "#integer list for use in the part 2:\n",
        "\n",
        "list1 = [19,72,56,47,57,9,11,3,44,21,]\n",
        "list2 = [44,21,9,7,1,66,88,1332,6,33]\n",
        "#integer list for use in the part 2:\n",
        "\n",
        "list1 = [19,72,56,47,57,9,11,3,44,21,]\n",
        "list2 = [44,21,9,7,1,66,88,1332,6,33]\n",
        "\n",
        "#list for even numbers\n",
        "list_even = []\n",
        "for num in list1 + list2:\n",
        "    # Iterate through both lists\n",
        "    if num % 2 == 0:\n",
        "        list_even.append(num)\n",
        "        print(list_even)\n",
        "\n",
        "#list for odd numbers\n",
        "list_odd = []\n",
        "for num in list1 + list2:\n",
        "    if num % 2 == 0:\n",
        "        list_even.append(num)\n",
        "    else:\n",
        "        list_odd.append(num)\n",
        "        print(list_odd)\n",
        "\n",
        "# Define the is_integer function before calling it\n",
        "def is_integer(n):\n",
        "    return (n, int)\n",
        "\n",
        "is_integer(n=list_odd[0]) #list_odd is a list, so you must access one of its element to check for its type\n",
        "\n",
        "# Check if all elements in list_odd are integers\n",
        "all_integers = all(is_integer(x) for x in list_odd)\n",
        "print(all_integers)\n",
        "# Print True if all elements are integers, otherwise False\n",
        "if num % 2 == 0:\n",
        "        list_even.append(num)\n",
        "        print(list_even)\n",
        "\n",
        "is_integer(n=list_odd)\n",
        "# Check if all elements in list_odd are integers\n",
        "all_integers = all(is_integer(x) for x in list_odd)\n",
        "print(all_integers)\n",
        "# Print True if all elements are integers, otherwise False\n"
      ],
      "metadata": {
        "colab": {
          "base_uri": "https://localhost:8080/",
          "height": 0
        },
        "id": "RrOUiF2mTAra",
        "outputId": "1b469995-8629-468b-c4fc-43ecc29dff82"
      },
      "execution_count": 198,
      "outputs": [
        {
          "output_type": "stream",
          "name": "stdout",
          "text": [
            "[72]\n",
            "[72, 56]\n",
            "[72, 56, 44]\n",
            "[72, 56, 44, 44]\n",
            "[72, 56, 44, 44, 66]\n",
            "[72, 56, 44, 44, 66, 88]\n",
            "[72, 56, 44, 44, 66, 88, 1332]\n",
            "[72, 56, 44, 44, 66, 88, 1332, 6]\n",
            "[19]\n",
            "[19, 47]\n",
            "[19, 47, 57]\n",
            "[19, 47, 57, 9]\n",
            "[19, 47, 57, 9, 11]\n",
            "[19, 47, 57, 9, 11, 3]\n",
            "[19, 47, 57, 9, 11, 3, 21]\n",
            "[19, 47, 57, 9, 11, 3, 21, 21]\n",
            "[19, 47, 57, 9, 11, 3, 21, 21, 9]\n",
            "[19, 47, 57, 9, 11, 3, 21, 21, 9, 7]\n",
            "[19, 47, 57, 9, 11, 3, 21, 21, 9, 7, 1]\n",
            "[19, 47, 57, 9, 11, 3, 21, 21, 9, 7, 1, 33]\n",
            "True\n",
            "True\n",
            "\n"
          ]
        }
      ]
    },
    {
      "cell_type": "code",
      "source": [
        "# Testing bool, idenitity, and membership operations with the lists.\n",
        "\n",
        "#variables for list checking\n",
        "list1 = [19,72,56,47,57,9,11,3,44,21,]\n",
        "list2 = [44,21,9,7,1,66,88,1332,6,33]\n",
        "\n",
        "combined_list = (list1 + list2)\n",
        "\n",
        "a = list1\n",
        "b = list2\n",
        "c = combined_list\n",
        "\n",
        "for int in combined_list:\n",
        "  add(a, b)\n",
        "print(combined_list)\n",
        "\n",
        "if a == b:\n",
        "  print(True,\"Accurate.\")\n",
        "else:\n",
        "  print(False)\n",
        "\n",
        "if a is b:\n",
        "  print(True)\n",
        "else:\n",
        "  print(False)\n",
        "\n",
        "if a in b:\n",
        "  print(True)\n",
        "else:\n",
        "  print(False)\n",
        "\n",
        "if a not in b:\n",
        "  print(True)\n",
        "else:\n",
        "  print(False)\n",
        "if a is not b:\n",
        "  print(True)\n",
        "else:\n",
        "  print(False)\n",
        "\n",
        "while a == b:\n",
        "  print(True)\n",
        "else:\n",
        "  print(False)\n",
        "if a is b:\n",
        "  print(True)\n",
        "else:\n",
        "  print(False)\n",
        "\n",
        "# ObjectIdentity = a != b >= c = makes a runtime error, infinite loop!~\n",
        "#variable precision test is 'ObjectIdentity = a, b >= c' etc.\n",
        "ObjectIdentity = a, b >= c\n",
        "hex(id(c))\n",
        "print(hex(id(c)))\n",
        "print(ObjectIdentity)\n",
        "while ObjectIdentity == True:\n",
        "  print(True,\"Accurate.\")\n",
        "else:\n",
        "  print(False, \"Try again.\")\n",
        "\n",
        "#testing concatenation\n",
        "combined_list.sort()\n",
        "print(combined_list)\n",
        "combined_list.reverse()\n",
        "print(combined_list)\n",
        "len(combined_list)\n",
        "str(combined_list)\n",
        "combined_list.count(9)\n",
        "combined_list.index(11)\n",
        "#tested suggested items, program I believe is functional."
      ],
      "metadata": {
        "colab": {
          "base_uri": "https://localhost:8080/"
        },
        "id": "Q7EVq_Wua1cw",
        "outputId": "33e614ef-8cb8-4f31-b333-5f9d464e6a9f"
      },
      "execution_count": 240,
      "outputs": [
        {
          "output_type": "stream",
          "name": "stdout",
          "text": [
            "[19, 72, 56, 47, 57, 9, 11, 3, 44, 21, 44, 21, 9, 7, 1, 66, 88, 1332, 6, 33]\n",
            "False\n",
            "False\n",
            "False\n",
            "True\n",
            "True\n",
            "False\n",
            "False\n",
            "0x7fafd2bdcac0\n",
            "([19, 72, 56, 47, 57, 9, 11, 3, 44, 21], True)\n",
            "False Try again.\n",
            "[1, 3, 6, 7, 9, 9, 11, 19, 21, 21, 33, 44, 44, 47, 56, 57, 66, 72, 88, 1332]\n",
            "[1332, 88, 72, 66, 57, 56, 47, 44, 44, 33, 21, 21, 19, 11, 9, 9, 7, 6, 3, 1]\n"
          ]
        },
        {
          "output_type": "execute_result",
          "data": {
            "text/plain": [
              "13"
            ]
          },
          "metadata": {},
          "execution_count": 240
        }
      ]
    }
  ]
}